{
 "cells": [
  {
   "cell_type": "markdown",
   "metadata": {},
   "source": [
    "## 2. mongodb 인덱스 (INDEX)\n",
    "- 검색을 더 빠르게 수행하고자 만든 추가적인 data structure\n",
    "  - index 데이터 구조가 없다면, 컬렉션에 있는 데이터를 하나씩 조회하는 방식으로 검색이 됨"
   ]
  },
  {
   "cell_type": "markdown",
   "metadata": {},
   "source": [
    "### 2.1 기본 인덱스 _id\n",
    "- 모든 mongodb 컬렉션은 기본적으로 _id 필드를 기반으로 기본 인덱스가 생성됨"
   ]
  },
  {
   "cell_type": "markdown",
   "metadata": {},
   "source": [
    "#### mongodb 접속 기본 코드"
   ]
  },
  {
   "cell_type": "code",
   "execution_count": 2,
   "metadata": {},
   "outputs": [
    {
     "name": "stdout",
     "output_type": "stream",
     "text": [
      "{'_id': ObjectId('6019112ffd9a8148c2183d1a'), '직업': '배우', '생년월일': '1970-09-01', '성별': '남', '신장/체중': '180cm, 75kg', '학교': '서울예술대학 연극과 졸업', '특기': '농구, 악기연주', '소속사': '예당엔터테인먼트', '배우이름': '황정민', '흥행지수': 78066, '출연영화': ['다만 악에서 구하소서', '신세계', '부당거래', '국제시장', '아수라'], '랭킹': 1}\n",
      "{'_id': ObjectId('6019112ffd9a8148c2183d1b'), '직업': '배우', '성별': '남', '홈페이지': '\\nhttp://www.artistcompany.co.kr/portfolio-item/lee-jung-jae/\\n', '소속사': '아티스트컴퍼니', '배우이름': '이정재', '흥행지수': 52049, '출연영화': ['다만 악에서 구하소서', '신세계', '신과 함께-죄와 벌', '신과 함께-인과 연', '사바하', '도둑들'], '랭킹': 2}\n",
      "{'_id': ObjectId('6019112ffd9a8148c2183d1c'), '직업': '배우', '생년월일': '1986-10-06', '성별': '남', '홈페이지': '\\nhttps://www.instagram.com/hongsick/\\nhttps://twitter.com/seeksik\\n', '신장/체중': '178cm, 60kg', '학교': '단국대학교 연극', '취미': '피아노 연주, 인터넷 게임, 영화, 음악감상', '특기': '스노우보드, 수영', '배우이름': '유아인', '흥행지수': 42530, '출연영화': ['#살아있다', '소리도 없이', '버닝', '사도'], '랭킹': 3, '다른이름': '엄홍식'}\n"
     ]
    }
   ],
   "source": [
    "from bs4 import BeautifulSoup\n",
    "import requests\n",
    "import pymongo\n",
    "import re\n",
    "\n",
    "conn = pymongo.MongoClient()\n",
    "actor_db = conn.cine21\n",
    "actor_collection = actor_db.actor_collection\n",
    "\n",
    "actor_collection.find_one({})\n",
    "docs = actor_collection.find({}).limit(3)\n",
    "for doc in docs:\n",
    "    print (doc)\n",
    "actor = actor_collection"
   ]
  },
  {
   "cell_type": "markdown",
   "metadata": {},
   "source": [
    "### 2.2 Single(단일) 필드 인덱스"
   ]
  },
  {
   "cell_type": "markdown",
   "metadata": {},
   "source": [
    "#### index 생성: create_index()"
   ]
  },
  {
   "cell_type": "code",
   "execution_count": 26,
   "metadata": {},
   "outputs": [
    {
     "data": {
      "text/plain": [
       "'배우이름_1'"
      ]
     },
     "execution_count": 26,
     "metadata": {},
     "output_type": "execute_result"
    }
   ],
   "source": [
    "actor.create_index('배우이름')"
   ]
  },
  {
   "cell_type": "markdown",
   "metadata": {},
   "source": [
    "#### index 정보 확인: index_information()"
   ]
  },
  {
   "cell_type": "code",
   "execution_count": 27,
   "metadata": {},
   "outputs": [
    {
     "data": {
      "text/plain": [
       "{'_id_': {'v': 2, 'key': [('_id', 1)]},\n",
       " '배우이름_1': {'v': 2, 'key': [('배우이름', 1)]}}"
      ]
     },
     "execution_count": 27,
     "metadata": {},
     "output_type": "execute_result"
    }
   ],
   "source": [
    "actor.index_information()"
   ]
  },
  {
   "cell_type": "markdown",
   "metadata": {},
   "source": [
    "- key: ('필드명', direction)\n",
    "  - direction\n",
    "    - pymongo.ASCENDING = 1\n",
    "    - pymongo.DESCENDING = -1\n",
    "    - pymongo.TEXT = 'text'"
   ]
  },
  {
   "cell_type": "markdown",
   "metadata": {},
   "source": [
    "#### 전체 인덱스 삭제"
   ]
  },
  {
   "cell_type": "code",
   "execution_count": 4,
   "metadata": {},
   "outputs": [],
   "source": [
    "actor.drop_indexes()"
   ]
  },
  {
   "cell_type": "code",
   "execution_count": 25,
   "metadata": {},
   "outputs": [
    {
     "data": {
      "text/plain": [
       "{'_id_': {'v': 2, 'key': [('_id', 1)]}}"
      ]
     },
     "execution_count": 25,
     "metadata": {},
     "output_type": "execute_result"
    }
   ],
   "source": [
    "actor.index_information()"
   ]
  },
  {
   "cell_type": "markdown",
   "metadata": {},
   "source": [
    "#### 특정 인덱스 삭제"
   ]
  },
  {
   "cell_type": "code",
   "execution_count": 12,
   "metadata": {},
   "outputs": [],
   "source": [
    "actor.drop_index([('배우이름', 1)])"
   ]
  },
  {
   "cell_type": "code",
   "execution_count": 29,
   "metadata": {},
   "outputs": [
    {
     "data": {
      "text/plain": [
       "{'_id_': {'v': 2, 'key': [('_id', 1)]}}"
      ]
     },
     "execution_count": 29,
     "metadata": {},
     "output_type": "execute_result"
    }
   ],
   "source": [
    "actor.index_information()"
   ]
  },
  {
   "cell_type": "markdown",
   "metadata": {},
   "source": [
    "#### 여러개의 single index 생성 가능"
   ]
  },
  {
   "cell_type": "code",
   "execution_count": 14,
   "metadata": {},
   "outputs": [
    {
     "data": {
      "text/plain": [
       "'배우이름_1'"
      ]
     },
     "execution_count": 14,
     "metadata": {},
     "output_type": "execute_result"
    }
   ],
   "source": [
    "actor.create_index('배우이름')"
   ]
  },
  {
   "cell_type": "code",
   "execution_count": 15,
   "metadata": {},
   "outputs": [
    {
     "data": {
      "text/plain": [
       "'랭킹_1'"
      ]
     },
     "execution_count": 15,
     "metadata": {},
     "output_type": "execute_result"
    }
   ],
   "source": [
    "actor.create_index('랭킹')"
   ]
  },
  {
   "cell_type": "code",
   "execution_count": 16,
   "metadata": {},
   "outputs": [
    {
     "data": {
      "text/plain": [
       "'흥행지수_1'"
      ]
     },
     "execution_count": 16,
     "metadata": {},
     "output_type": "execute_result"
    }
   ],
   "source": [
    "actor.create_index('흥행지수')"
   ]
  },
  {
   "cell_type": "code",
   "execution_count": 19,
   "metadata": {},
   "outputs": [
    {
     "data": {
      "text/plain": [
       "{'_id_': {'v': 2, 'key': [('_id', 1)]},\n",
       " '배우이름_1': {'v': 2, 'key': [('배우이름', 1)]},\n",
       " '랭킹_1': {'v': 2, 'key': [('랭킹', 1)]},\n",
       " '흥행지수_1': {'v': 2, 'key': [('흥행지수', 1)]},\n",
       " '직업_-1': {'v': 2, 'key': [('직업', -1)]}}"
      ]
     },
     "execution_count": 19,
     "metadata": {},
     "output_type": "execute_result"
    }
   ],
   "source": [
    "actor.index_information()"
   ]
  },
  {
   "cell_type": "code",
   "execution_count": 18,
   "metadata": {},
   "outputs": [
    {
     "data": {
      "text/plain": [
       "'직업_-1'"
      ]
     },
     "execution_count": 18,
     "metadata": {},
     "output_type": "execute_result"
    }
   ],
   "source": [
    "actor.create_index([('직업', pymongo.DESCENDING)])"
   ]
  },
  {
   "cell_type": "markdown",
   "metadata": {},
   "source": [
    "#### 부분 문자열 검색을 위해, text index 생성"
   ]
  },
  {
   "cell_type": "code",
   "execution_count": 41,
   "metadata": {},
   "outputs": [],
   "source": [
    "actor.drop_indexes()"
   ]
  },
  {
   "cell_type": "code",
   "execution_count": 42,
   "metadata": {},
   "outputs": [
    {
     "data": {
      "text/plain": [
       "'출연영화_text'"
      ]
     },
     "execution_count": 42,
     "metadata": {},
     "output_type": "execute_result"
    }
   ],
   "source": [
    "actor.create_index([('출연영화', 'text')])"
   ]
  },
  {
   "cell_type": "code",
   "execution_count": 43,
   "metadata": {},
   "outputs": [
    {
     "data": {
      "text/plain": [
       "{'_id_': {'v': 2, 'key': [('_id', 1)]},\n",
       " '출연영화_text': {'v': 2,\n",
       "  'key': [('_fts', 'text'), ('_ftsx', 1)],\n",
       "  'weights': SON([('출연영화', 1)]),\n",
       "  'default_language': 'english',\n",
       "  'language_override': 'language',\n",
       "  'textIndexVersion': 3}}"
      ]
     },
     "execution_count": 43,
     "metadata": {},
     "output_type": "execute_result"
    }
   ],
   "source": [
    "actor.index_information()"
   ]
  },
  {
   "cell_type": "markdown",
   "metadata": {},
   "source": [
    "#### 부분 문자열 검색: $text"
   ]
  },
  {
   "cell_type": "code",
   "execution_count": 50,
   "metadata": {},
   "outputs": [
    {
     "name": "stdout",
     "output_type": "stream",
     "text": [
      "{'_id': ObjectId('6019112ffd9a8148c2183d1f'), '직업': '배우', '생년월일': '1987-02-25', '성별': '남', '신장/체중': '178cm, 63kg', '학교': '한국예술종합학교 영상원 연극원 연기과', '배우이름': '박정민', '흥행지수': 26048, '출연영화': ['다만 악에서 구하소서', '시동', '사냥의 시간', '들개', '동주', '사바하'], '랭킹': 6}\n",
      "{'_id': ObjectId('6019112ffd9a8148c2183d1b'), '직업': '배우', '성별': '남', '홈페이지': '\\nhttp://www.artistcompany.co.kr/portfolio-item/lee-jung-jae/\\n', '소속사': '아티스트컴퍼니', '배우이름': '이정재', '흥행지수': 52049, '출연영화': ['다만 악에서 구하소서', '신세계', '신과 함께-죄와 벌', '신과 함께-인과 연', '사바하', '도둑들'], '랭킹': 2}\n",
      "{'_id': ObjectId('6019112ffd9a8148c2183d1a'), '직업': '배우', '생년월일': '1970-09-01', '성별': '남', '신장/체중': '180cm, 75kg', '학교': '서울예술대학 연극과 졸업', '특기': '농구, 악기연주', '소속사': '예당엔터테인먼트', '배우이름': '황정민', '흥행지수': 78066, '출연영화': ['다만 악에서 구하소서', '신세계', '부당거래', '국제시장', '아수라'], '랭킹': 1}\n"
     ]
    }
   ],
   "source": [
    "docs = actor.find({'$text': { '$search': '다만' }})\n",
    "for doc in docs:\n",
    "    print(doc)"
   ]
  },
  {
   "cell_type": "code",
   "execution_count": 41,
   "metadata": {},
   "outputs": [
    {
     "name": "stdout",
     "output_type": "stream",
     "text": [
      "{'_id': ObjectId('5d4541ccc92b652d52161387'), '배우이름': '임윤아', '흥행지수': 2176, '출연영화': ['엑시트', '공조'], '랭킹': '117', '직업': '가수', '생년월일': '1990-05-30', '성별': '여', '홈페이지': '\\nhttps://www.instagram.com/yoona__lim/\\n', '소속사': 'SM엔터테인먼트', '다른이름': '소녀시대; girlsgeneration; girls generation'}\n",
      "{'_id': ObjectId('5d4541ccc92b652d52161378'), '배우이름': '진영', '흥행지수': 2469, '출연영화': ['내안의 그놈', '수상한 그녀'], '랭킹': '102', '직업': '가수', '생년월일': '1991-11-18', '성별': '남', '홈페이지': '\\nhttps://twitter.com/_jinyoung911118\\nhttps://instagram.com/jinyoung0423/\\n', '신장/체중': '178cm, 59kg', '다른이름': '정진영; 비원에이포; B1A4'}\n",
      "{'_id': ObjectId('5d4541ccc92b652d52161377'), '배우이름': '도경수', '흥행지수': 2475, '출연영화': ['스윙키즈', '언더독', '신과 함께-죄와 벌', '형', '순정', '7호실'], '랭킹': '101', '직업': '가수', '성별': '남', '다른이름': '엑소;EXO; 디오'}\n",
      "{'_id': ObjectId('5d4541ccc92b652d52161369'), '배우이름': '김설현', '흥행지수': 2944, '출연영화': ['안시성'], '랭킹': '87', '직업': '가수', '생년월일': '1995-01-03', '성별': '여', '홈페이지': '\\nhttps://instagram.com/sh_9513\\n', '다른이름': '김설현;AOA;에이오에이'}\n"
     ]
    }
   ],
   "source": [
    "docs = actor.find({'$text': {'$search': '가수'}})\n",
    "for doc in docs:\n",
    "    print (doc)"
   ]
  },
  {
   "cell_type": "markdown",
   "metadata": {},
   "source": [
    "### 2.3 Compound(복합) 필드 인덱스\n",
    "- 최대 31개의 필드로 만들 수 있음"
   ]
  },
  {
   "cell_type": "code",
   "execution_count": 8,
   "metadata": {},
   "outputs": [],
   "source": [
    "actor.drop_indexes()"
   ]
  },
  {
   "cell_type": "code",
   "execution_count": 82,
   "metadata": {},
   "outputs": [
    {
     "data": {
      "text/plain": [
       "'출연영화_text_직업_text_흥행지수_-1'"
      ]
     },
     "execution_count": 82,
     "metadata": {},
     "output_type": "execute_result"
    }
   ],
   "source": [
    "actor.create_index([('출연영화', pymongo.TEXT), ('직업', pymongo.TEXT), ('흥행지수', pymongo.DESCENDING)])"
   ]
  },
  {
   "cell_type": "code",
   "execution_count": 6,
   "metadata": {},
   "outputs": [
    {
     "name": "stdout",
     "output_type": "stream",
     "text": [
      "{'_id': ObjectId('6019112ffd9a8148c2183f4f'), '직업': '배우', '생년월일': '1983-07-29', '성별': '남', '신장/체중': '175cm, 60kg', '학교': '한국예술종합학교 연극원', '취미': '음악듣기, 축구', '특기': '기계체조', '배우이름': '김동욱', '흥행지수': 13, '출연영화': ['신과 함께-죄와 벌', '신과 함께-인과 연'], '랭킹': 566}\n",
      "{'_id': ObjectId('6019112ffd9a8148c2183f3f'), '직업': '배우', '생년월일': '2000-08-09', '성별': '여', '홈페이지': '\\nhttps://twitter.com/smell2001\\n', '특기': '애교 부리기, 피아노 치기', '배우이름': '김향기', '흥행지수': 15, '출연영화': ['증인', '신과 함께-죄와 벌', '신과 함께-인과 연'], '랭킹': 550}\n",
      "{'_id': ObjectId('6019112ffd9a8148c2183f30'), '원어명': '주지훈', '직업': '배우', '생년월일': '1982-05-16', '성별': '남', '홈페이지': '\\nhttps://www.instagram.com/_jujihoon/\\n', '신장/체중': '187cm, 68kg', '학교': '경기대학교 연기', '취미': '컴퓨터 게임', '특기': '속독, 노래, 춤, 합기도, 피아노', '배우이름': '주지훈', '흥행지수': 16, '출연영화': ['아수라', '신과 함께-죄와 벌', '신과 함께-인과 연'], '랭킹': 535, '다른이름': '주영훈'}\n",
      "{'_id': ObjectId('6019112ffd9a8148c2183df6'), '직업': '배우', '생년월일': '1984-03-13', '성별': '남', '홈페이지': '\\nhttps://twitter.com/4eyedjack\\n', '신장/체중': '181cm, 70kg', '학교': '한신대학교 광고홍보학', '배우이름': '이준혁', '흥행지수': 314, '출연영화': ['야구소녀', '신과 함께-죄와 벌', '신과 함께-인과 연'], '랭킹': 221}\n",
      "{'_id': ObjectId('6019112ffd9a8148c2183da0'), '직업': '배우', '생년월일': '1968-08-16', '성별': '남', '배우이름': '정해균', '흥행지수': 1106, '출연영화': ['신과 함께-죄와 벌', '신과 함께-인과 연', '사라진 시간'], '랭킹': 135}\n",
      "{'_id': ObjectId('6019112ffd9a8148c2183d58'), '직업': '배우', '생년월일': '1952-01-05', '성별': '남', '배우이름': '장광', '흥행지수': 3632, '출연영화': ['강철비2: 정상회담', '가나의 혼인잔치: 언약', '매지컬 : 공주를 웃겨라', '신세계', '신과 함께-죄와 벌', '신과 함께-인과 연'], '랭킹': 63}\n",
      "{'_id': ObjectId('6019112ffd9a8148c2183d42'), '직업': '배우', '생년월일': '1970-10-11', '성별': '남', '신장/체중': '175cm, 68kg', '학교': '서울예술대학 연극', '소속사': '빌리지엔터테인먼트', '배우이름': '임원희', '흥행지수': 5515, '출연영화': ['천문: 하늘에 묻는다', '신과 함께-죄와 벌', '도굴', '신과 함께-인과 연'], '랭킹': 41}\n",
      "{'_id': ObjectId('6019112ffd9a8148c2183d1b'), '직업': '배우', '성별': '남', '홈페이지': '\\nhttp://www.artistcompany.co.kr/portfolio-item/lee-jung-jae/\\n', '소속사': '아티스트컴퍼니', '배우이름': '이정재', '흥행지수': 52049, '출연영화': ['다만 악에서 구하소서', '신세계', '신과 함께-죄와 벌', '신과 함께-인과 연', '사바하', '도둑들'], '랭킹': 2}\n",
      "{'_id': ObjectId('6019112ffd9a8148c2184083'), '직업': '배우', '생년월일': '2007-05-31', '성별': '남', '배우이름': '정지훈', '흥행지수': 3, '출연영화': ['신과 함께-인과 연'], '랭킹': 874}\n",
      "{'_id': ObjectId('6019112ffd9a8148c218406c'), '직업': '배우', '생년월일': '1969-11-28', '성별': '남', '신장/체중': '180cm, 71kg', '학교': '동국대학교대학원 연극', '취미': '음악 감상, 악기 연주, 그림 그리기, 운동', '특기': '째즈발레, 악기연주, 노래', '소속사': '나무액터스', '배우이름': '유준상', '흥행지수': 3, '출연영화': ['신과 함께-죄와 벌', '북촌방향', '지금은맞고그때는틀리다', '다른 나라에서', '누구의 딸도 아닌 해원', '당신자신과 당신의 것'], '랭킹': 851}\n",
      "{'_id': ObjectId('6019112ffd9a8148c2184051'), '직업': '배우', '생년월일': '1938-05-25', '성별': '남', '배우이름': '남일우', '흥행지수': 4, '출연영화': ['친절한 금자씨', '내부자들', '신과 함께-인과 연'], '랭킹': 824}\n",
      "{'_id': ObjectId('6019112ffd9a8148c2183fd6'), '직업': '배우', '생년월일': '1955-12-30', '성별': '여', '학교': '경희대학교 간호학 (중퇴)', '취미': '음악감상, 뜨개질', '특기': '피아노연주', '소속사': '준앤아이', '배우이름': '김해숙', '흥행지수': 7, '출연영화': ['신과 함께-죄와 벌', '박쥐', '허스토리 ', '사도', '아가씨', '소원'], '랭킹': 701}\n",
      "{'_id': ObjectId('6019112ffd9a8148c2183f9f'), '직업': '가수', '생년월일': '1993-01-12', '성별': '남', '배우이름': '도경수', '흥행지수': 9, '출연영화': ['스윙키즈', '신과 함께-죄와 벌'], '랭킹': 646, '다른이름': '엑소;EXO; 디오'}\n",
      "{'_id': ObjectId('6019112ffd9a8148c2183f7b'), '직업': '배우', '생년월일': '1976-03-25', '성별': '남', '신장/체중': '175cm, 65kg', '학교': '중앙대학교언론대학원', '취미': '영화보기, 노래부르기', '특기': '골프', '소속사': '싸이더스 HQ', '배우이름': '차태현', '흥행지수': 11, '출연영화': ['엽기적인 그녀', '신과 함께-죄와 벌'], '랭킹': 610}\n",
      "{'_id': ObjectId('6019112ffd9a8148c2183ebd'), '직업': '배우', '생년월일': '1960-12-12', '성별': '남', '신장/체중': '173cm, 64kg', '학교': '한양대학교 연극영화학 학사', '배우이름': '이경영', '흥행지수': 31, '출연영화': ['백두산', '신세계', '신과 함께-죄와 벌', '블랙머니', '불한당: 나쁜 놈들의 세상', '부러진 화살'], '랭킹': 420}\n",
      "{'_id': ObjectId('6019112ffd9a8148c2183eb0'), '직업': '배우', '생년월일': '1978-02-21', '성별': '여', '홈페이지': '\\nhttps://www.facebook.com/kimhaneul\\n', '신장/체중': '168cm, 48kg', '학교': '서울예술대학 영화', '취미': '음악 감상, 여행, 독서', '소속사': '제이원 플러스 엔터테인먼트 컴퍼니', '배우이름': '김하늘', '흥행지수': 34, '출연영화': ['동감', '신과 함께-죄와 벌'], '랭킹': 407}\n",
      "{'_id': ObjectId('6019112ffd9a8148c2183d86'), '직업': '배우', '생년월일': '1968-06-15', '성별': '남', '신장/체중': '176cm, 68kg', '학교': '동의대학교 공업디자인 (중퇴)', '소속사': '빌리지엔터테인먼트', '배우이름': '오달수', '흥행지수': 1603, '출연영화': ['이웃사촌', '신과 함께-죄와 벌', '7번방의 선물', '국제시장', '올드보이', '박쥐'], '랭킹': 109}\n",
      "{'_id': ObjectId('6019112ffd9a8148c2183d5c'), '직업': '배우', '생년월일': '1973-05-13', '성별': '남', '배우이름': '조한철', '흥행지수': 3482, '출연영화': ['정직한 후보', '백두산', '블랙머니', '배심원들', '신과 함께-인과 연'], '랭킹': 67}\n",
      "{'_id': ObjectId('6019112ffd9a8148c2183d21'), '직업': '배우', '생년월일': '1978-03-11', '성별': '남', '홈페이지': '\\nhttps://www.facebook.com/ft.hajungwoo\\n', '신장/체중': '184cm, 75kg', '학교': '중앙대학교 연극학 학사', '취미': '피아노, 검도, 수영', '배우이름': '하정우', '흥행지수': 22609, '출연영화': ['클로젯', '백두산', '범죄와의 전쟁 : 나쁜 놈들 전성시대', '멋진 하루', '아가씨', '신과 함께-죄와 벌'], '랭킹': 8, '다른이름': '김성훈; 河正宇'}\n"
     ]
    }
   ],
   "source": [
    "docs = actor.find({'$text': {'$search': '신과'}})\n",
    "for doc in docs:\n",
    "    print (doc)"
   ]
  },
  {
   "cell_type": "code",
   "execution_count": null,
   "metadata": {},
   "outputs": [],
   "source": []
  },
  {
   "cell_type": "markdown",
   "metadata": {},
   "source": [
    "### 2.4 다양한 문자열 검색"
   ]
  },
  {
   "cell_type": "code",
   "execution_count": 9,
   "metadata": {},
   "outputs": [
    {
     "name": "stdout",
     "output_type": "stream",
     "text": [
      "{'_id': ObjectId('6019112ffd9a8148c2183d1b'), '직업': '배우', '성별': '남', '홈페이지': '\\nhttp://www.artistcompany.co.kr/portfolio-item/lee-jung-jae/\\n', '소속사': '아티스트컴퍼니', '배우이름': '이정재', '흥행지수': 52049, '출연영화': ['다만 악에서 구하소서', '신세계', '신과 함께-죄와 벌', '신과 함께-인과 연', '사바하', '도둑들'], '랭킹': 2}\n",
      "{'_id': ObjectId('6019112ffd9a8148c2183d21'), '직업': '배우', '생년월일': '1978-03-11', '성별': '남', '홈페이지': '\\nhttps://www.facebook.com/ft.hajungwoo\\n', '신장/체중': '184cm, 75kg', '학교': '중앙대학교 연극학 학사', '취미': '피아노, 검도, 수영', '배우이름': '하정우', '흥행지수': 22609, '출연영화': ['클로젯', '백두산', '범죄와의 전쟁 : 나쁜 놈들 전성시대', '멋진 하루', '아가씨', '신과 함께-죄와 벌'], '랭킹': 8, '다른이름': '김성훈; 河正宇'}\n",
      "{'_id': ObjectId('6019112ffd9a8148c2183d42'), '직업': '배우', '생년월일': '1970-10-11', '성별': '남', '신장/체중': '175cm, 68kg', '학교': '서울예술대학 연극', '소속사': '빌리지엔터테인먼트', '배우이름': '임원희', '흥행지수': 5515, '출연영화': ['천문: 하늘에 묻는다', '신과 함께-죄와 벌', '도굴', '신과 함께-인과 연'], '랭킹': 41}\n",
      "{'_id': ObjectId('6019112ffd9a8148c2183d58'), '직업': '배우', '생년월일': '1952-01-05', '성별': '남', '배우이름': '장광', '흥행지수': 3632, '출연영화': ['강철비2: 정상회담', '가나의 혼인잔치: 언약', '매지컬 : 공주를 웃겨라', '신세계', '신과 함께-죄와 벌', '신과 함께-인과 연'], '랭킹': 63}\n",
      "{'_id': ObjectId('6019112ffd9a8148c2183d5c'), '직업': '배우', '생년월일': '1973-05-13', '성별': '남', '배우이름': '조한철', '흥행지수': 3482, '출연영화': ['정직한 후보', '백두산', '블랙머니', '배심원들', '신과 함께-인과 연'], '랭킹': 67}\n",
      "{'_id': ObjectId('6019112ffd9a8148c2183d86'), '직업': '배우', '생년월일': '1968-06-15', '성별': '남', '신장/체중': '176cm, 68kg', '학교': '동의대학교 공업디자인 (중퇴)', '소속사': '빌리지엔터테인먼트', '배우이름': '오달수', '흥행지수': 1603, '출연영화': ['이웃사촌', '신과 함께-죄와 벌', '7번방의 선물', '국제시장', '올드보이', '박쥐'], '랭킹': 109}\n",
      "{'_id': ObjectId('6019112ffd9a8148c2183da0'), '직업': '배우', '생년월일': '1968-08-16', '성별': '남', '배우이름': '정해균', '흥행지수': 1106, '출연영화': ['신과 함께-죄와 벌', '신과 함께-인과 연', '사라진 시간'], '랭킹': 135}\n",
      "{'_id': ObjectId('6019112ffd9a8148c2183df6'), '직업': '배우', '생년월일': '1984-03-13', '성별': '남', '홈페이지': '\\nhttps://twitter.com/4eyedjack\\n', '신장/체중': '181cm, 70kg', '학교': '한신대학교 광고홍보학', '배우이름': '이준혁', '흥행지수': 314, '출연영화': ['야구소녀', '신과 함께-죄와 벌', '신과 함께-인과 연'], '랭킹': 221}\n",
      "{'_id': ObjectId('6019112ffd9a8148c2183e2f'), '직업': '성우', '생년월일': '1984-01-26', '성별': '여', '배우이름': '정혜원', '흥행지수': 159, '출연영화': ['극장판 요괴워치: 포에버 프렌즈', '안녕, 티라노: 영원히, 함께'], '랭킹': 278}\n",
      "{'_id': ObjectId('6019112ffd9a8148c2183eb0'), '직업': '배우', '생년월일': '1978-02-21', '성별': '여', '홈페이지': '\\nhttps://www.facebook.com/kimhaneul\\n', '신장/체중': '168cm, 48kg', '학교': '서울예술대학 영화', '취미': '음악 감상, 여행, 독서', '소속사': '제이원 플러스 엔터테인먼트 컴퍼니', '배우이름': '김하늘', '흥행지수': 34, '출연영화': ['동감', '신과 함께-죄와 벌'], '랭킹': 407}\n",
      "{'_id': ObjectId('6019112ffd9a8148c2183ebd'), '직업': '배우', '생년월일': '1960-12-12', '성별': '남', '신장/체중': '173cm, 64kg', '학교': '한양대학교 연극영화학 학사', '배우이름': '이경영', '흥행지수': 31, '출연영화': ['백두산', '신세계', '신과 함께-죄와 벌', '블랙머니', '불한당: 나쁜 놈들의 세상', '부러진 화살'], '랭킹': 420}\n",
      "{'_id': ObjectId('6019112ffd9a8148c2183f1a'), '원어명': '이재현', '직업': '성우', '생년월일': '1984-04-14', '성별': '남', '배우이름': '이현', '흥행지수': 17, '출연영화': ['극장판 원피스 스탬피드', '극장판 헬로카봇 : 달나라를 구해줘!', '안녕, 티라노: 영원히, 함께'], '랭킹': 513}\n",
      "{'_id': ObjectId('6019112ffd9a8148c2183f30'), '원어명': '주지훈', '직업': '배우', '생년월일': '1982-05-16', '성별': '남', '홈페이지': '\\nhttps://www.instagram.com/_jujihoon/\\n', '신장/체중': '187cm, 68kg', '학교': '경기대학교 연기', '취미': '컴퓨터 게임', '특기': '속독, 노래, 춤, 합기도, 피아노', '배우이름': '주지훈', '흥행지수': 16, '출연영화': ['아수라', '신과 함께-죄와 벌', '신과 함께-인과 연'], '랭킹': 535, '다른이름': '주영훈'}\n",
      "{'_id': ObjectId('6019112ffd9a8148c2183f3f'), '직업': '배우', '생년월일': '2000-08-09', '성별': '여', '홈페이지': '\\nhttps://twitter.com/smell2001\\n', '특기': '애교 부리기, 피아노 치기', '배우이름': '김향기', '흥행지수': 15, '출연영화': ['증인', '신과 함께-죄와 벌', '신과 함께-인과 연'], '랭킹': 550}\n",
      "{'_id': ObjectId('6019112ffd9a8148c2183f4f'), '직업': '배우', '생년월일': '1983-07-29', '성별': '남', '신장/체중': '175cm, 60kg', '학교': '한국예술종합학교 연극원', '취미': '음악듣기, 축구', '특기': '기계체조', '배우이름': '김동욱', '흥행지수': 13, '출연영화': ['신과 함께-죄와 벌', '신과 함께-인과 연'], '랭킹': 566}\n",
      "{'_id': ObjectId('6019112ffd9a8148c2183f7b'), '직업': '배우', '생년월일': '1976-03-25', '성별': '남', '신장/체중': '175cm, 65kg', '학교': '중앙대학교언론대학원', '취미': '영화보기, 노래부르기', '특기': '골프', '소속사': '싸이더스 HQ', '배우이름': '차태현', '흥행지수': 11, '출연영화': ['엽기적인 그녀', '신과 함께-죄와 벌'], '랭킹': 610}\n",
      "{'_id': ObjectId('6019112ffd9a8148c2183f9f'), '직업': '가수', '생년월일': '1993-01-12', '성별': '남', '배우이름': '도경수', '흥행지수': 9, '출연영화': ['스윙키즈', '신과 함께-죄와 벌'], '랭킹': 646, '다른이름': '엑소;EXO; 디오'}\n",
      "{'_id': ObjectId('6019112ffd9a8148c2183fd6'), '직업': '배우', '생년월일': '1955-12-30', '성별': '여', '학교': '경희대학교 간호학 (중퇴)', '취미': '음악감상, 뜨개질', '특기': '피아노연주', '소속사': '준앤아이', '배우이름': '김해숙', '흥행지수': 7, '출연영화': ['신과 함께-죄와 벌', '박쥐', '허스토리 ', '사도', '아가씨', '소원'], '랭킹': 701}\n",
      "{'_id': ObjectId('6019112ffd9a8148c2184051'), '직업': '배우', '생년월일': '1938-05-25', '성별': '남', '배우이름': '남일우', '흥행지수': 4, '출연영화': ['친절한 금자씨', '내부자들', '신과 함께-인과 연'], '랭킹': 824}\n",
      "{'_id': ObjectId('6019112ffd9a8148c218406c'), '직업': '배우', '생년월일': '1969-11-28', '성별': '남', '신장/체중': '180cm, 71kg', '학교': '동국대학교대학원 연극', '취미': '음악 감상, 악기 연주, 그림 그리기, 운동', '특기': '째즈발레, 악기연주, 노래', '소속사': '나무액터스', '배우이름': '유준상', '흥행지수': 3, '출연영화': ['신과 함께-죄와 벌', '북촌방향', '지금은맞고그때는틀리다', '다른 나라에서', '누구의 딸도 아닌 해원', '당신자신과 당신의 것'], '랭킹': 851}\n",
      "{'_id': ObjectId('6019112ffd9a8148c218406e'), '직업': '성우', '성별': '남', '배우이름': '시영준', '흥행지수': 3, '출연영화': ['극장판 헬로카봇 : 달나라를 구해줘!', '프린스 코기', '안녕, 티라노: 영원히, 함께'], '랭킹': 853}\n",
      "{'_id': ObjectId('6019112ffd9a8148c2184083'), '직업': '배우', '생년월일': '2007-05-31', '성별': '남', '배우이름': '정지훈', '흥행지수': 3, '출연영화': ['신과 함께-인과 연'], '랭킹': 874}\n",
      "{'_id': ObjectId('6019112ffd9a8148c21843c8'), '직업': '코미디언', '생년월일': '1980-11-16', '성별': '남', '신장/체중': '185cm, 80kg', '학교': '한국외국어대학교', '취미': '음악감상, 휴대폰게임', '특기': '기타, 드럼연주', '배우이름': '김준현', '흥행지수': 0, '출연영화': ['안녕, 티라노: 영원히, 함께'], '랭킹': 1711}\n"
     ]
    }
   ],
   "source": [
    "# 정규표현식 ($text operator 는 $search operator 와 함께 사용됨)\n",
    "result = actor.find({'출연영화' : {'$regex' : '함께'}})\n",
    "for record in result:\n",
    "    print(record)"
   ]
  },
  {
   "cell_type": "code",
   "execution_count": null,
   "metadata": {},
   "outputs": [],
   "source": []
  },
  {
   "cell_type": "code",
   "execution_count": 10,
   "metadata": {},
   "outputs": [],
   "source": [
    "from bs4 import BeautifulSoup\n",
    "import requests\n",
    "import pymongo\n",
    "import re\n",
    "\n",
    "conn = pymongo.MongoClient()\n",
    "actor_db = conn.cine21\n",
    "text_collection = actor_db.text_collection"
   ]
  },
  {
   "cell_type": "code",
   "execution_count": 11,
   "metadata": {},
   "outputs": [
    {
     "data": {
      "text/plain": [
       "<pymongo.results.InsertManyResult at 0x7fb3b7c572c0>"
      ]
     },
     "execution_count": 11,
     "metadata": {},
     "output_type": "execute_result"
    }
   ],
   "source": [
    "text_collection.insert_many(\n",
    "    [\n",
    "        { \"name\": \"Java Hut\", \"description\": \"Coffee and cakes\", \"ranking\": 1 },\n",
    "        { \"name\": \"Burger Buns\", \"description\": \"Java hamburgers\", \"ranking\": 2 },\n",
    "        { \"name\": \"Coffee Shop\", \"description\": \"Just coffee\", \"ranking\": 3 },\n",
    "        { \"name\": \"Clothes Clothes Clothes\", \"description\": \"Discount clothing\", \"ranking\": 4 },\n",
    "        { \"name\": \"Java Shopping\", \"description\": \"Indonesian goods\", \"ranking\": 5 }\n",
    "    ]\n",
    ")"
   ]
  },
  {
   "cell_type": "code",
   "execution_count": 13,
   "metadata": {},
   "outputs": [
    {
     "name": "stdout",
     "output_type": "stream",
     "text": [
      "{'_id': ObjectId('601be600a27b1dc5d5becb2d'), 'name': 'Coffee Shop', 'description': 'Just coffee', 'ranking': 3}\n"
     ]
    }
   ],
   "source": [
    "docs = text_collection.find({'name': {'$regex': 'Co.*'}})\n",
    "for doc in docs:\n",
    "    print (doc)"
   ]
  },
  {
   "cell_type": "code",
   "execution_count": 18,
   "metadata": {},
   "outputs": [
    {
     "name": "stdout",
     "output_type": "stream",
     "text": [
      "{'_id': ObjectId('601be600a27b1dc5d5becb2d'), 'name': 'Coffee Shop', 'description': 'Just coffee', 'ranking': 3}\n",
      "{'_id': ObjectId('601be600a27b1dc5d5becb2f'), 'name': 'Java Shopping', 'description': 'Indonesian goods', 'ranking': 5}\n"
     ]
    }
   ],
   "source": [
    "docs = text_collection.find({'name': {'$regex': 'Sh.*'}})\n",
    "for doc in docs:\n",
    "    print (doc)"
   ]
  },
  {
   "cell_type": "code",
   "execution_count": 19,
   "metadata": {},
   "outputs": [
    {
     "data": {
      "text/plain": [
       "'name_text'"
      ]
     },
     "execution_count": 19,
     "metadata": {},
     "output_type": "execute_result"
    }
   ],
   "source": [
    "text_collection.create_index([('name', pymongo.TEXT)])"
   ]
  },
  {
   "cell_type": "code",
   "execution_count": 20,
   "metadata": {},
   "outputs": [
    {
     "name": "stdout",
     "output_type": "stream",
     "text": [
      "{'_id': ObjectId('601be600a27b1dc5d5becb2d'), 'name': 'Coffee Shop', 'description': 'Just coffee', 'ranking': 3}\n"
     ]
    }
   ],
   "source": [
    "docs = text_collection.find({'$text': {'$search': 'coffee'}})\n",
    "for doc in docs:\n",
    "    print (doc)"
   ]
  },
  {
   "cell_type": "code",
   "execution_count": 21,
   "metadata": {},
   "outputs": [
    {
     "name": "stdout",
     "output_type": "stream",
     "text": [
      "{'_id': ObjectId('601be600a27b1dc5d5becb2d'), 'name': 'Coffee Shop', 'description': 'Just coffee', 'ranking': 3}\n",
      "{'_id': ObjectId('601be600a27b1dc5d5becb2f'), 'name': 'Java Shopping', 'description': 'Indonesian goods', 'ranking': 5}\n",
      "{'_id': ObjectId('601be600a27b1dc5d5becb2b'), 'name': 'Java Hut', 'description': 'Coffee and cakes', 'ranking': 1}\n"
     ]
    }
   ],
   "source": [
    "docs = text_collection.find({'$text': {'$search': 'java coffee shop'}})\n",
    "for doc in docs:\n",
    "    print (doc)"
   ]
  },
  {
   "cell_type": "code",
   "execution_count": 26,
   "metadata": {},
   "outputs": [
    {
     "name": "stdout",
     "output_type": "stream",
     "text": [
      "{'_id': ObjectId('601be600a27b1dc5d5becb2d'), 'name': 'Coffee Shop', 'description': 'Just coffee', 'ranking': 3}\n"
     ]
    }
   ],
   "source": [
    "docs = text_collection.find({'$text': {'$search': '\\\"coffee shop\\\"'}})\n",
    "for doc in docs:\n",
    "    print (doc)"
   ]
  },
  {
   "cell_type": "code",
   "execution_count": 27,
   "metadata": {},
   "outputs": [
    {
     "name": "stdout",
     "output_type": "stream",
     "text": [
      "{'_id': ObjectId('601be600a27b1dc5d5becb2d'), 'name': 'Coffee Shop', 'description': 'Just coffee', 'ranking': 3}\n"
     ]
    }
   ],
   "source": [
    "# 문자열 대소문자 구분 '$caseSensitive': True\n",
    "docs = text_collection.find({'$text': {'$search': 'Coffee', '$caseSensitive': True}})\n",
    "for doc in docs:\n",
    "    print (doc)"
   ]
  },
  {
   "cell_type": "code",
   "execution_count": null,
   "metadata": {},
   "outputs": [],
   "source": []
  },
  {
   "cell_type": "markdown",
   "metadata": {},
   "source": [
    "<div class=\"alert alert-block alert-warning\">\n",
    "<font color=\"blue\" size=\"4em\">실습</font><br>\n",
    "배우중에 중앙대학교를 나온 배우를 흥행지수 순으로 최대 10명 출력하라\n",
    "</div>"
   ]
  },
  {
   "cell_type": "code",
   "execution_count": 106,
   "metadata": {},
   "outputs": [
    {
     "name": "stdout",
     "output_type": "stream",
     "text": [
      "{'_id': ObjectId('5d4541ccc92b652d52161313'), '배우이름': '주지훈', '흥행지수': 29515, '출연영화': ['신과 함께-인과 연', '공작', '암수살인', '신과 함께-죄와 벌', '아수라', '좋은 친구들'], '랭킹': '1', '원어명': '주지훈', '직업': '배우', '생년월일': '1982-05-16', '성별': '남', '홈페이지': '\\nhttps://www.instagram.com/_jujihoon/\\n', '신장/체중': '187cm, 68kg', '학교': '경기대학교 연기', '취미': '컴퓨터 게임', '특기': '속독, 노래, 춤, 합기도, 피아노', '다른이름': '주영훈'}\n",
      "{'_id': ObjectId('5d4541ccc92b652d52161357'), '배우이름': '정우성', '흥행지수': 3732, '출연영화': ['인랑', '증인', '호우시절', '더 킹', '비트', '아수라'], '랭킹': '69', '직업': '배우', '생년월일': '1973-03-20', '성별': '남', '홈페이지': '\\nhttps://www.instagram.com/tojws/\\nhttps://www.facebook.com/officialjws\\n', '신장/체중': '186cm, 79kg', '학교': '경기상업고등학교 중퇴', '취미': '비디오 감상，드라이브', '특기': '농구，수영', '소속사': '(주)토러스 필름'}\n"
     ]
    }
   ],
   "source": [
    "result = actor.find({'학교' : {'$regex' : '중앙대학교'}}).sort('흥행지수', pymongo.DESCENDING).limit(10)\n",
    "for record in result:\n",
    "    print(record)"
   ]
  },
  {
   "cell_type": "code",
   "execution_count": null,
   "metadata": {},
   "outputs": [],
   "source": []
  },
  {
   "cell_type": "code",
   "execution_count": 41,
   "metadata": {},
   "outputs": [
    {
     "name": "stdout",
     "output_type": "stream",
     "text": [
      "{'학교': '경희대언론정보대학원 문화콘텐츠학', '배우이름': '정준호'}\n",
      "{'학교': '총신대학교 종교음악과,경희대학교대학원', '배우이름': '김선경'}\n",
      "{'학교': '경희대학교 전자공학과', '배우이름': '강신일'}\n",
      "{'학교': '경희대학교에서 철학과/연극영화과 전공', '배우이름': '박수연'}\n",
      "{'학교': '경희대학교 간호학 (중퇴)', '배우이름': '김해숙'}\n",
      "{'학교': '경희대학교 언론정보대학원', '배우이름': '김지미'}\n",
      "{'학교': '경희대학교 연극영화 - 경희대아트퓨전디자인대학원 퍼포밍아트학', '배우이름': '공유'}\n",
      "{'학교': '경희대학교 연극영화', '배우이름': '김옥빈'}\n",
      "{'학교': '경희대학교 연극영화학 재학', '배우이름': '이홍기'}\n",
      "{'학교': '경희대학교 연극영화과', '배우이름': '전재형'}\n"
     ]
    }
   ],
   "source": [
    "results = actor.find({'학교': {'$regex': '경희'}}, {'배우이름': 1, '학교': 1, '_id': 0}).sort('흥행지수', pymongo.DESCENDING).limit(10)\n",
    "for result in results:\n",
    "    print(result)"
   ]
  },
  {
   "cell_type": "raw",
   "metadata": {},
   "source": []
  }
 ],
 "metadata": {
  "kernelspec": {
   "display_name": "Python 3",
   "language": "python",
   "name": "python3"
  },
  "language_info": {
   "codemirror_mode": {
    "name": "ipython",
    "version": 3
   },
   "file_extension": ".py",
   "mimetype": "text/x-python",
   "name": "python",
   "nbconvert_exporter": "python",
   "pygments_lexer": "ipython3",
   "version": "3.8.5"
  }
 },
 "nbformat": 4,
 "nbformat_minor": 2
}
